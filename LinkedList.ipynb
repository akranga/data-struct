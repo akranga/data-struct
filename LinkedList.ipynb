{
 "cells": [
  {
   "cell_type": "markdown",
   "metadata": {},
   "source": [
    "# Linked Lists\n",
    "\n",
    "Linked list is a data structure where current points to the next element in the list. Last element points to `None`. We define a list element with simple data structure. We use `classes for that`\n",
    "\n",
    "We also define two function to create and print elements\n",
    "* Function `new` will create a new element of a list\n",
    "* Function `printElement` print a value of a list element"
   ]
  },
  {
   "cell_type": "code",
   "execution_count": 14,
   "metadata": {},
   "outputs": [
    {
     "name": "stdout",
     "output_type": "stream",
     "text": [
      "[ Banana ]\n",
      "[ Cucumber ]\n"
     ]
    }
   ],
   "source": [
    "class ListElement:\n",
    "    value = None\n",
    "    other = None\n",
    "    \n",
    "\n",
    "def new(value, other=None):\n",
    "    el = ListElement()\n",
    "    el.value = value\n",
    "    el.other = other\n",
    "    return el \n",
    "\n",
    "def printElement(el):\n",
    "    print(\"[ %s ]\" % el.value)\n",
    "\n",
    "banana = new(\"Banana\")\n",
    "cucumber = new(\"Cucumber\")\n",
    "printElement(banana)\n",
    "printElement(cucumber)"
   ]
  },
  {
   "cell_type": "markdown",
   "metadata": {},
   "source": [
    "## Linked list structure\n",
    "Before we srtart with operations we define a data structure routines, so our code would look better.\n",
    "\n",
    "We define a function that creates a random element between `0 .. MAX_NUM` \n",
    "* Function `newRandom` will create a new element of a list and assign a random value between (`0` and `MAX_NUM`)"
   ]
  },
  {
   "cell_type": "code",
   "execution_count": 2,
   "metadata": {},
   "outputs": [],
   "source": [
    "import random\n",
    "MAX_NUM=100\n",
    "\n",
    "def newRandom(other=None):\n",
    "    rnd = range(0, MAX_NUM)\n",
    "    return new(rnd, other)"
   ]
  },
  {
   "cell_type": "markdown",
   "metadata": {},
   "source": [
    "### Define list elements\n",
    "\n",
    "Define list of random elements (see figure below). For better readability we will go from tail to head. However order is not necessary. We create a new Random element and put reference to the next element. At the end of the list we should have a `tail` that points to `None` none\n",
    "```\n",
    "tail --> el4 --> el3 --> el2 --> el1 --> None\n",
    "```"
   ]
  },
  {
   "cell_type": "code",
   "execution_count": 3,
   "metadata": {},
   "outputs": [],
   "source": [
    "el1 = newRandom()\n",
    "el2 = newRandom(el1)\n",
    "el3 = newRandom(el2)\n",
    "el4 = newRandom(el3)\n",
    "tail = newRandom(el4)"
   ]
  },
  {
   "cell_type": "markdown",
   "metadata": {},
   "source": [
    "### Task 1: Lineal search in the list\n",
    "\n",
    "Implement a function that will return a list of elements until tail. To achieve this we define a function that will iterate through the list and until it will reach desired element, or return `None` if not found."
   ]
  },
  {
   "cell_type": "code",
   "execution_count": 4,
   "metadata": {},
   "outputs": [],
   "source": [
    "def find(other=None):\n",
    "    # here goes recoursion\n",
    "    return None\n",
    "\n",
    "def printElement(element):\n",
    "    # Case for None\n",
    "    print(\"[ value: %s ]\" % element.value)"
   ]
  }
 ],
 "metadata": {
  "kernelspec": {
   "display_name": "Python 3",
   "language": "python",
   "name": "python3"
  },
  "language_info": {
   "codemirror_mode": {
    "name": "ipython",
    "version": 3
   },
   "file_extension": ".py",
   "mimetype": "text/x-python",
   "name": "python",
   "nbconvert_exporter": "python",
   "pygments_lexer": "ipython3",
   "version": "3.7.0"
  }
 },
 "nbformat": 4,
 "nbformat_minor": 2
}

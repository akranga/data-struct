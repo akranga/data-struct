{
 "cells": [
  {
   "cell_type": "markdown",
   "metadata": {},
   "source": [
    "# Linked Lists\n",
    "\n",
    "Linked list is a data structure where current points to the next element in the list. Last element points to `None`. We define a list element with simple data structure. We use `classes for that`\n",
    "\n",
    "We also define two function to create and print elements\n",
    "* Function `new` will create a new element of a list\n",
    "* Function `printElement` print a value of a list element"
   ]
  },
  {
   "cell_type": "code",
   "execution_count": 29,
   "metadata": {},
   "outputs": [
    {
     "name": "stdout",
     "output_type": "stream",
     "text": [
      "[ value: Banana, other: None ]\n",
      "[ value: Cucumber, other: None ]\n"
     ]
    }
   ],
   "source": [
    "class ListElement:\n",
    "    value = None\n",
    "    other = None\n",
    "    \n",
    "\n",
    "def new(value, other=None):\n",
    "    el = ListElement()\n",
    "    el.value = value\n",
    "    el.other = other\n",
    "    return el \n",
    "\n",
    "def printElement(el):\n",
    "    print(\"[ value: %s, other: %s ]\" % (el.value, el.other))\n",
    "\n",
    "banana = new(\"Banana\")\n",
    "cucumber = new(\"Cucumber\")\n",
    "printElement(banana)\n",
    "printElement(cucumber)"
   ]
  },
  {
   "cell_type": "markdown",
   "metadata": {},
   "source": [
    "## Linked list structure\n",
    "Before we srtart with operations we define a data structure routines, so our code would look better.\n",
    "\n",
    "We define a function that creates a random element between `0 .. MAX_NUM` \n",
    "* Function `newRandom` will create a new element of a list and assign a random value between (`0` and `MAX_NUM`)"
   ]
  },
  {
   "cell_type": "code",
   "execution_count": 30,
   "metadata": {},
   "outputs": [],
   "source": [
    "import random\n",
    "MAX_NUM=100\n",
    "\n",
    "def newRandom(other=None):\n",
    "    rnd = random.randint(0, MAX_NUM)\n",
    "    return new(rnd, other)"
   ]
  },
  {
   "cell_type": "markdown",
   "metadata": {},
   "source": [
    "### Define list elements\n",
    "\n",
    "Define list of random elements (see figure below). For better readability we will go from tail to head. However order is not necessary. We create a new Random element and put reference to the next element. At the end of the list we should have a `tail` that points to `None` none\n",
    "```\n",
    "tail --> el4 --> el3 --> el2 --> el1 --> None\n",
    "```"
   ]
  },
  {
   "cell_type": "code",
   "execution_count": 40,
   "metadata": {},
   "outputs": [
    {
     "name": "stdout",
     "output_type": "stream",
     "text": [
      "[ value: 98, other: None ]\n",
      "[ value: 77, other: <__main__.ListElement object at 0x10a9f7b70> ]\n",
      "[ value: 61, other: <__main__.ListElement object at 0x10a9f7b38> ]\n",
      "[ value: 89, other: <__main__.ListElement object at 0x10a9f7cc0> ]\n",
      "[ value: 14, other: <__main__.ListElement object at 0x10a9f7c88> ]\n"
     ]
    }
   ],
   "source": [
    "tail = newRandom()\n",
    "printElement(tail)\n",
    "\n",
    "el2 = newRandom(tail)\n",
    "printElement(el2)\n",
    "\n",
    "el3 = newRandom(el2)\n",
    "printElement(el3)\n",
    "\n",
    "el4 = newRandom(el3)\n",
    "printElement(el4)\n",
    "\n",
    "head = newRandom(el4)\n",
    "printElement(head)\n"
   ]
  },
  {
   "cell_type": "markdown",
   "metadata": {},
   "source": [
    "### Task 1: List traversal\n",
    "\n",
    "To `traverse` list we must iterate from `head` to `tail` (or otherwise until element that has `other` equal to `None`"
   ]
  },
  {
   "cell_type": "code",
   "execution_count": 41,
   "metadata": {
    "scrolled": false
   },
   "outputs": [
    {
     "name": "stdout",
     "output_type": "stream",
     "text": [
      "Traversing from tail\n",
      "[ value: 98, other: None ]\n",
      "\n",
      "Traversing from head\n",
      "[ value: 14, other: <__main__.ListElement object at 0x10a9f7c88> ]\n",
      "[ value: 89, other: <__main__.ListElement object at 0x10a9f7cc0> ]\n",
      "[ value: 61, other: <__main__.ListElement object at 0x10a9f7b38> ]\n",
      "[ value: 77, other: <__main__.ListElement object at 0x10a9f7b70> ]\n",
      "[ value: 98, other: None ]\n"
     ]
    }
   ],
   "source": [
    "def traverse(element):\n",
    "    printElement(element)\n",
    "    if (element.other != None):\n",
    "        traverse(element.other)\n",
    "\n",
    "print(\"Traversing from tail\")\n",
    "traverse( tail )\n",
    "\n",
    "print()\n",
    "print(\"Traversing from head\")\n",
    "traverse( head )\n"
   ]
  },
  {
   "cell_type": "markdown",
   "metadata": {},
   "source": [
    "## Task: find\n",
    "\n",
    "Function find traverses the list, and returns an index of the element or `None` if desired element not found\n",
    "\n",
    "Task is to implement a function `find`"
   ]
  },
  {
   "cell_type": "code",
   "execution_count": 47,
   "metadata": {
    "scrolled": true
   },
   "outputs": [
    {
     "name": "stdout",
     "output_type": "stream",
     "text": [
      "Step: 0\n",
      "[ value: 14, other: <__main__.ListElement object at 0x10a9f7c88> ]\n",
      "Step: 1\n",
      "[ value: 89, other: <__main__.ListElement object at 0x10a9f7cc0> ]\n",
      "Step: 2\n",
      "[ value: 61, other: <__main__.ListElement object at 0x10a9f7b38> ]\n",
      "Step: 3\n",
      "[ value: 77, other: <__main__.ListElement object at 0x10a9f7b70> ]\n",
      "Step: 4\n",
      "[ value: 98, other: None ]\n",
      "None\n"
     ]
    }
   ],
   "source": [
    "def find(element, desired, step=0):\n",
    "    print(\"Step: %s\" % step)\n",
    "    printElement(element)\n",
    "    if (element.value == desired):\n",
    "        return step\n",
    "    if (element.other == None):\n",
    "        return None\n",
    "    return find(element.other, desired, step+1)\n",
    "\n",
    "result = find(head, 222)\n",
    "print(result)"
   ]
  },
  {
   "cell_type": "markdown",
   "metadata": {},
   "source": [
    "## Task: Seek \n",
    "    \n",
    "Function `seek` will traverse elements in the list until given `index` of an element. Then it returns the `value` of the element or `None` if reached out side of list boundarries\n",
    "\n"
   ]
  },
  {
   "cell_type": "code",
   "execution_count": 54,
   "metadata": {},
   "outputs": [
    {
     "name": "stdout",
     "output_type": "stream",
     "text": [
      "Step: 0 \n",
      "Step: 1 \n",
      "Step: 2 \n",
      "Step: 3 \n",
      "[ value: 77, other: <__main__.ListElement object at 0x10a9f7b70> ]\n"
     ]
    }
   ],
   "source": [
    "def gimme(element, index, current=0):\n",
    "    print(\"Step: %s \" % current)\n",
    "    if (element == None):\n",
    "        return None\n",
    "    if (index == current):\n",
    "        return  element\n",
    "    return gimme(element.other, index, current+1)\n",
    "    \n",
    "result = gimme(head, 3)\n",
    "printElement( result )"
   ]
  },
  {
   "cell_type": "markdown",
   "metadata": {},
   "source": [
    "## Task: add element\n",
    "\n",
    "We point other to us and other of the other to our other"
   ]
  },
  {
   "cell_type": "code",
   "execution_count": null,
   "metadata": {},
   "outputs": [],
   "source": [
    "def add(listElement, newElement):\n",
    "    temp = listElement.other\n",
    "    listElement.other = newElement\n",
    "    newElement.other = temp"
   ]
  },
  {
   "cell_type": "markdown",
   "metadata": {},
   "source": [
    "## Task: delete element\n",
    "    \n",
    "1. Find the element\n",
    "2. Point other element to our other"
   ]
  },
  {
   "cell_type": "code",
   "execution_count": null,
   "metadata": {},
   "outputs": [],
   "source": [
    "def delete(listElement, value):\n",
    "    # please implement me\n",
    "    return None"
   ]
  },
  {
   "cell_type": "markdown",
   "metadata": {},
   "source": [
    "## Task: swap elements\n",
    "\n",
    "Function `swap` Takes a `head` of a list and two indexes and swaps corresponding elements"
   ]
  },
  {
   "cell_type": "code",
   "execution_count": null,
   "metadata": {},
   "outputs": [],
   "source": [
    "def swap(listElement, oneIndex, anotherIndex):\n",
    "    # swap me please\n",
    "    return None"
   ]
  }
 ],
 "metadata": {
  "kernelspec": {
   "display_name": "Python 3",
   "language": "python",
   "name": "python3"
  },
  "language_info": {
   "codemirror_mode": {
    "name": "ipython",
    "version": 3
   },
   "file_extension": ".py",
   "mimetype": "text/x-python",
   "name": "python",
   "nbconvert_exporter": "python",
   "pygments_lexer": "ipython3",
   "version": "3.7.0"
  }
 },
 "nbformat": 4,
 "nbformat_minor": 2
}
